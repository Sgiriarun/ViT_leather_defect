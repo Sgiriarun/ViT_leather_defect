{
 "cells": [
  {
   "cell_type": "code",
   "execution_count": null,
   "id": "e8659e35-e8fc-4eea-8e93-4eafafaee533",
   "metadata": {},
   "outputs": [],
   "source": [
    "!pip install kaggle"
   ]
  },
  {
   "cell_type": "code",
   "execution_count": null,
   "id": "8dd045fd-3d31-421d-b28b-b724b50cbd28",
   "metadata": {},
   "outputs": [],
   "source": [
    "!touch kaggle.json\n",
    " # Creates json file to store Kaggle API Credentials\n",
    "kaggle_api_token = {\"username\":\"******\",\"key\":\"************\"}  # Insert your own username and API Key here\n"
   ]
  },
  {
   "cell_type": "code",
   "execution_count": null,
   "id": "3a356e8b-5525-4120-89fa-16c2591d9fdf",
   "metadata": {},
   "outputs": [],
   "source": [
    "import shutil\n",
    "\n",
    "# Replace 'path/to/your/kaggle.json' with the actual path to your kaggle.json file\n",
    "kaggle_json_path = 'kaggle.json'\n",
    "\n",
    "# Copy the kaggle.json file to the correct directory\n",
    "shutil.copy(kaggle_json_path, '/home/ec2-user/.kaggle/kaggle.json')\n",
    "\n",
    "# Set appropriate permissions\n",
    "!chmod 600 /home/ec2-user/.kaggle/kaggle.json\n"
   ]
  },
  {
   "cell_type": "code",
   "execution_count": null,
   "id": "fd193e3b-00bb-48c7-8436-e7a32d407f85",
   "metadata": {},
   "outputs": [],
   "source": [
    "from kaggle.api.kaggle_api_extended import KaggleApi\n",
    "\n",
    "# Replace 'your_dataset_name' with the name of the Kaggle dataset you want to download\n",
    "dataset_name = 'praveen2084/leather-defect-classification'\n",
    "\n",
    "# Initialize Kaggle API\n",
    "api = KaggleApi()\n",
    "api.authenticate()  # This will use your Kaggle API credentials\n",
    "\n",
    "# Download the dataset\n",
    "api.dataset_download_files(dataset_name, unzip=True)\n"
   ]
  },
  {
   "cell_type": "code",
   "execution_count": null,
   "id": "b5a5f080-a164-45c5-90b2-9494c090d1b7",
   "metadata": {},
   "outputs": [],
   "source": [
    "import os\n",
    "import random\n",
    "from shutil import move\n",
    "\n",
    "def move_random_images(source_folder, num_images_per_class=10):\n",
    "    # Get the list of sub-classification folders\n",
    "    sub_folders = [f for f in os.listdir(source_folder) if os.path.isdir(os.path.join(source_folder, f))]\n",
    "    print(sub_folders)\n",
    "    # Ensure the \"test\" folder exists within the main folder\n",
    "    test_folder = os.path.join(source_folder, \"test\")\n",
    "    os.makedirs(test_folder, exist_ok=True)\n",
    "\n",
    "    for sub_folder in sub_folders:\n",
    "        sub_folder_path = os.path.join(source_folder, sub_folder)\n",
    "        print(sub_folder_path)\n",
    "        # Get the list of image files in the sub-classification folder\n",
    "        image_files = [f for f in os.listdir(sub_folder_path) if f.lower().endswith(('.png', '.jpg', '.jpeg'))]\n",
    "\n",
    "        # Select a random subset of images\n",
    "        selected_images = random.sample(image_files, min(num_images_per_class, len(image_files)))\n",
    "\n",
    "        # Move selected images to the \"test\" folder\n",
    "        for image in selected_images:\n",
    "            src_path = os.path.join(sub_folder_path, image)\n",
    "            dest_path = os.path.join(test_folder, image)\n",
    "            move(src_path, dest_path)\n",
    "            print(f\"Image {image} from {sub_folder} moved to {test_folder}\")\n",
    "\n",
    "if __name__ == \"__main__\":\n",
    "    source_folder = \"Leather_Defect_Classification\"\n",
    "    num_selected_images_per_class = 10\n",
    "\n",
    "    move_random_images(source_folder, num_selected_images_per_class)\n"
   ]
  },
  {
   "cell_type": "code",
   "execution_count": 2,
   "id": "29b5eba4-8d91-4de1-b6e3-60283359c250",
   "metadata": {
    "tags": []
   },
   "outputs": [],
   "source": [
    "import os\n",
    "import shutil\n",
    "\n",
    "def combine_folders(input_folder, output_folder):\n",
    "    # Create the output folder if it doesn't exist\n",
    "    os.makedirs(output_folder, exist_ok=True)\n",
    "\n",
    "    # Get a list of all subfolders inside the input folder\n",
    "    subfolders = [f.path for f in os.scandir(input_folder) if f.is_dir()]\n",
    "\n",
    "    # Counter for naming images\n",
    "    counter = 1\n",
    "\n",
    "    # Iterate through each subfolder and move images to the output folder\n",
    "    for subfolder in subfolders:\n",
    "        move_images(subfolder, output_folder, counter)\n",
    "        counter += 1\n",
    "\n",
    "def move_images(source_folder, output_folder, counter):\n",
    "    # Get the list of files in the source folder\n",
    "    files = os.listdir(source_folder)\n",
    "\n",
    "    for file in files:\n",
    "        source_path = os.path.join(source_folder, file)\n",
    "        output_path = os.path.join(output_folder, f\"defective_{counter}_{file}\")\n",
    "\n",
    "        # Move the image to the output folder and rename\n",
    "        shutil.move(source_path, output_path)\n",
    "\n",
    "# Example usage:\n",
    "input_folder_path = \"Two_class\"\n",
    "output_folder_path = \"Untitled Folder\"\n",
    "\n",
    "combine_folders(input_folder_path, output_folder_path)\n"
   ]
  },
  {
   "cell_type": "code",
   "execution_count": 25,
   "id": "cb28dfc7-4111-4951-af31-e017d8e14ee1",
   "metadata": {
    "tags": []
   },
   "outputs": [
    {
     "name": "stdout",
     "output_type": "stream",
     "text": [
      "/bin/sh: line 0: cd: /Leather_Defect_Class/non: No such file or directory\n"
     ]
    }
   ],
   "source": [
    "!cd /Leather_Defect_Class/non defective"
   ]
  },
  {
   "cell_type": "code",
   "execution_count": 4,
   "id": "c4a20e65-8665-4918-88a7-fa284e7eafd5",
   "metadata": {
    "tags": []
   },
   "outputs": [
    {
     "name": "stdout",
     "output_type": "stream",
     "text": [
      "\u001b[0m\u001b[01;34mLeather_Defect_Classification\u001b[0m/           README.md  \u001b[01;34mTwo_class\u001b[0m/\n",
      "Leather_defect_vision_transformer.ipynb  \u001b[01;34mscripts\u001b[0m/   Untitled.ipynb\n",
      "new_test_case.ipynb                      \u001b[01;34mtest\u001b[0m/      \u001b[01;34mViT_leather_defect\u001b[0m/\n"
     ]
    }
   ],
   "source": [
    "ls"
   ]
  },
  {
   "cell_type": "code",
   "execution_count": 5,
   "id": "bb04e22d-fe4c-4762-81f1-2f3f19edd49a",
   "metadata": {
    "tags": []
   },
   "outputs": [
    {
     "name": "stdout",
     "output_type": "stream",
     "text": [
      "cp: omitting directory ‘Leather_Defect_Classification/non defective’\n"
     ]
    }
   ],
   "source": [
    "!cp Leather_Defect_Classification/non\\ defective Two_class/"
   ]
  },
  {
   "cell_type": "code",
   "execution_count": 24,
   "id": "5263a456-dbb3-4f99-b57a-2ac6f3779e1e",
   "metadata": {
    "tags": []
   },
   "outputs": [
    {
     "name": "stdout",
     "output_type": "stream",
     "text": [
      "[Errno 2] No such file or directory: 'Leather_Defect_Classification/'\n",
      "/home/ec2-user/SageMaker/ViT_leather_defect/Leather_Defect_Classification/ViT_leather_defect/Two_class\n"
     ]
    }
   ],
   "source": [
    "cd Leather_Defect_Classification/"
   ]
  },
  {
   "cell_type": "code",
   "execution_count": 7,
   "id": "44ac3afe-5e15-45fb-a510-eb8bde47e05a",
   "metadata": {
    "tags": []
   },
   "outputs": [
    {
     "name": "stdout",
     "output_type": "stream",
     "text": [
      "\u001b[0m\u001b[01;34mFolding marks\u001b[0m/  \u001b[01;34mGrowth marks\u001b[0m/  \u001b[01;34mnon defective\u001b[0m/\n",
      "\u001b[01;34mGrain off\u001b[0m/      \u001b[01;34mloose grains\u001b[0m/  \u001b[01;34mpinhole\u001b[0m/\n"
     ]
    }
   ],
   "source": [
    "ls"
   ]
  },
  {
   "cell_type": "code",
   "execution_count": 8,
   "id": "16517d87-6e80-4c33-9281-cf1ac39f4558",
   "metadata": {
    "tags": []
   },
   "outputs": [
    {
     "name": "stdout",
     "output_type": "stream",
     "text": [
      "cp: omitting directory ‘non defective’\n"
     ]
    }
   ],
   "source": [
    "cp non\\ defective /home/ec2-user/SageMaker/ViT_leather_defect/Two_class/"
   ]
  },
  {
   "cell_type": "code",
   "execution_count": 14,
   "id": "b5541a97-f7ac-43f7-8dc0-9ef966f01737",
   "metadata": {
    "tags": []
   },
   "outputs": [
    {
     "name": "stdout",
     "output_type": "stream",
     "text": [
      "Folder 'Leather_Defect_Classification/non defective' copied to 'Two_class/Non_defective_img' successfully.\n"
     ]
    }
   ],
   "source": [
    "import shutil\n",
    "\n",
    "def copy_folder(source_folder, destination_folder):\n",
    "    try:\n",
    "        # Copy the entire contents of the source folder to the destination folder\n",
    "        shutil.copytree(source_folder, destination_folder)\n",
    "        print(f\"Folder '{source_folder}' copied to '{destination_folder}' successfully.\")\n",
    "    except Exception as e:\n",
    "        print(f\"Error: {e}\")\n",
    "\n",
    "# Example usage:\n",
    "source_folder_path = \"Leather_Defect_Classification/non defective\"\n",
    "destination_folder_path = \"Two_class/Non_defective_img\"\n",
    "\n",
    "copy_folder(source_folder_path, destination_folder_path)\n"
   ]
  },
  {
   "cell_type": "code",
   "execution_count": 16,
   "id": "fdfc8bf0-4865-4beb-959f-413b0080ef6c",
   "metadata": {
    "tags": []
   },
   "outputs": [
    {
     "name": "stdout",
     "output_type": "stream",
     "text": [
      "/home/ec2-user/SageMaker/ViT_leather_defect/Leather_Defect_Classification/ViT_leather_defect/Two_class\n"
     ]
    }
   ],
   "source": [
    "cd ViT_leather_defect/Two_class\n"
   ]
  },
  {
   "cell_type": "code",
   "execution_count": 29,
   "id": "e1cf982b-8797-46e6-8c3a-c22234e16f6c",
   "metadata": {
    "tags": []
   },
   "outputs": [
    {
     "name": "stdout",
     "output_type": "stream",
     "text": [
      "\u001b[0m\u001b[01;34mFolding marks\u001b[0m/  \u001b[01;34mGrowth marks\u001b[0m/  \u001b[01;34mnon defective\u001b[0m/  \u001b[01;34mViT_leather_defect\u001b[0m/\n",
      "\u001b[01;34mGrain off\u001b[0m/      \u001b[01;34mloose grains\u001b[0m/  \u001b[01;34mpinhole\u001b[0m/\n"
     ]
    }
   ],
   "source": [
    "ls"
   ]
  },
  {
   "cell_type": "code",
   "execution_count": 31,
   "id": "0d9b43c8-3c8e-439a-ad75-b9d20f47f597",
   "metadata": {
    "tags": []
   },
   "outputs": [
    {
     "name": "stdout",
     "output_type": "stream",
     "text": [
      "/home/ec2-user/SageMaker/ViT_leather_defect\n"
     ]
    }
   ],
   "source": [
    "cd .."
   ]
  },
  {
   "cell_type": "code",
   "execution_count": 32,
   "id": "05722fa7-6f7e-414e-9f63-335825056507",
   "metadata": {
    "tags": []
   },
   "outputs": [
    {
     "ename": "SyntaxError",
     "evalue": "invalid syntax (418458286.py, line 1)",
     "output_type": "error",
     "traceback": [
      "\u001b[0;36m  Cell \u001b[0;32mIn[32], line 1\u001b[0;36m\u001b[0m\n\u001b[0;31m    cd Two_class/\u001b[0m\n\u001b[0m       ^\u001b[0m\n\u001b[0;31mSyntaxError\u001b[0m\u001b[0;31m:\u001b[0m invalid syntax\n"
     ]
    }
   ],
   "source": [
    "cd Two_class/\n",
    "ls"
   ]
  },
  {
   "cell_type": "code",
   "execution_count": 33,
   "id": "67f0b34a-2045-4c99-b26f-ee48d46e81c2",
   "metadata": {
    "tags": []
   },
   "outputs": [
    {
     "name": "stdout",
     "output_type": "stream",
     "text": [
      "/home/ec2-user/SageMaker/ViT_leather_defect/Two_class\n"
     ]
    }
   ],
   "source": [
    "cd Two_class/"
   ]
  },
  {
   "cell_type": "code",
   "execution_count": 34,
   "id": "d8ff4c86-4bad-4760-ad94-82675b724dfb",
   "metadata": {
    "tags": []
   },
   "outputs": [
    {
     "name": "stdout",
     "output_type": "stream",
     "text": [
      "\u001b[0m\u001b[01;34mdefects_img\u001b[0m/  \u001b[01;34mNon_defective\u001b[0m/\n"
     ]
    }
   ],
   "source": [
    "ls"
   ]
  },
  {
   "cell_type": "code",
   "execution_count": 1,
   "id": "8fc0c14e-f008-40cb-809c-d230620f3b6d",
   "metadata": {
    "tags": []
   },
   "outputs": [
    {
     "name": "stdout",
     "output_type": "stream",
     "text": [
      "total 76\n",
      "drwxrwxr-x  9 ec2-user ec2-user 4096 Dec 31 13:16 \u001b[0m\u001b[01;34m.\u001b[0m/\n",
      "drwxr-xr-x  7 ec2-user ec2-user 4096 Jan  1 13:25 \u001b[01;34m..\u001b[0m/\n",
      "drwxrwxr-x  8 ec2-user ec2-user 4096 Dec 31 13:16 \u001b[01;34m.git\u001b[0m/\n",
      "-rw-rw-r--  1 ec2-user ec2-user 3078 Dec 18 07:33 .gitignore\n",
      "drwxrwxr-x  2 ec2-user ec2-user 4096 Dec 31 12:38 \u001b[01;34m.ipynb_checkpoints\u001b[0m/\n",
      "-rw-rw-r--  1 ec2-user ec2-user    0 Dec 31 06:18 .kaggle\n",
      "drwxrwxr-x 11 ec2-user ec2-user 4096 Dec 31 13:14 \u001b[01;34mLeather_Defect_Classification\u001b[0m/\n",
      "-rw-rw-r--  1 ec2-user ec2-user 6134 Dec 31 11:59 Leather_defect_vision_transformer.ipynb\n",
      "-rw-rw-r--  1 ec2-user ec2-user 9352 Dec 31 08:24 new_test_case.ipynb\n",
      "-rw-rw-r--  1 ec2-user ec2-user   67 Dec 18 07:33 README.md\n",
      "drwxrwxr-x  2 ec2-user ec2-user 4096 Dec 18 07:33 \u001b[01;34mscripts\u001b[0m/\n",
      "drwxrwxr-x  2 ec2-user ec2-user 4096 Dec 31 08:15 \u001b[01;34mtest\u001b[0m/\n",
      "drwxrwxr-x  5 ec2-user ec2-user 4096 Dec 31 13:16 \u001b[01;34mTwo_class\u001b[0m/\n",
      "-rw-rw-r--  1 ec2-user ec2-user 9630 Dec 31 13:16 Untitled.ipynb\n",
      "drwxrwxr-x  3 ec2-user ec2-user 4096 Dec 31 12:39 \u001b[01;34mViT_leather_defect\u001b[0m/\n"
     ]
    }
   ],
   "source": [
    "ls -la"
   ]
  },
  {
   "cell_type": "code",
   "execution_count": 2,
   "id": "0d865a88-aa62-45e2-acc8-b225748f25d1",
   "metadata": {
    "tags": []
   },
   "outputs": [
    {
     "name": "stdout",
     "output_type": "stream",
     "text": [
      "Image Size: (227, 227)\n",
      "Color Mode: RGB\n"
     ]
    }
   ],
   "source": [
    "from PIL import Image\n",
    "\n",
    "def check_image_properties(image_path):\n",
    "    try:\n",
    "        # Open the image\n",
    "        img = Image.open(image_path)\n",
    "\n",
    "        # Get the size of the image (width, height)\n",
    "        size = img.size\n",
    "\n",
    "        # Get the color mode of the image (e.g., RGB, L, CMYK)\n",
    "        color_mode = img.mode\n",
    "\n",
    "        print(f\"Image Size: {size}\")\n",
    "        print(f\"Color Mode: {color_mode}\")\n",
    "\n",
    "    except Exception as e:\n",
    "        print(f\"Error: {e}\")\n",
    "\n",
    "# Example usage:\n",
    "image_path = \"Two_class/Defects_img/defective_1_Folding marks 01 (10).jpg\"\n",
    "check_image_properties(image_path)\n"
   ]
  },
  {
   "cell_type": "code",
   "execution_count": 15,
   "id": "775892b0-341a-4440-ab58-66f0d9d34429",
   "metadata": {
    "tags": []
   },
   "outputs": [
    {
     "name": "stdout",
     "output_type": "stream",
     "text": [
      "Number of files in Two_class/Non_defective_img/: 590\n"
     ]
    }
   ],
   "source": [
    "import os\n",
    "\n",
    "def count_files_in_folder(folder_path):\n",
    "    file_count = 0\n",
    "\n",
    "    for root, dirs, files in os.walk(folder_path):\n",
    "        for file in files:\n",
    "            file_count += 1\n",
    "\n",
    "    return file_count\n",
    "\n",
    "# Example usage:\n",
    "folder_path = \"Two_class/Non_defective_img/\"\n",
    "num_files = count_files_in_folder(folder_path)\n",
    "\n",
    "print(f\"Number of files in {folder_path}: {num_files}\")\n",
    "#Number of files in Two_class/Defects_img/: 2952\n",
    "#Number of files in Two_class/Non_defective_img/: 590\n",
    "#total 3542"
   ]
  },
  {
   "cell_type": "code",
   "execution_count": 1,
   "id": "130d81be-62db-4364-a87c-d4fcc2b3107d",
   "metadata": {
    "tags": []
   },
   "outputs": [
    {
     "name": "stdout",
     "output_type": "stream",
     "text": [
      "Defect Label: 1\n",
      "Non_defective Label: 2\n",
      "['Defect', 'Defect', 'Defect', 'Defect', 'Defect', 'Defect', 'Defect', 'Defect', 'Defect', 'Defect', 'Defect', 'Defect', 'Defect', 'Defect', 'Defect', 'Defect', 'Defect', 'Defect', 'Defect', 'Defect', 'Defect', 'Defect', 'Defect', 'Defect', 'Defect', 'Defect', 'Defect', 'Defect', 'Defect', 'Defect', 'Defect', 'Defect', 'Defect', 'Defect', 'Defect', 'Defect', 'Defect', 'Defect', 'Defect', 'Defect', 'Defect', 'Defect', 'Defect', 'Defect', 'Defect', 'Defect', 'Defect', 'Defect', 'Defect', 'Defect', 'Defect', 'Defect', 'Defect', 'Defect', 'Defect', 'Defect', 'Defect', 'Defect', 'Defect', 'Defect', 'Defect', 'Defect', 'Defect', 'Defect', 'Defect', 'Defect', 'Defect', 'Defect', 'Defect', 'Defect', 'Defect', 'Defect', 'Defect', 'Defect', 'Defect', 'Defect', 'Defect', 'Defect', 'Defect', 'Defect', 'Defect', 'Defect', 'Defect', 'Defect', 'Defect', 'Defect', 'Defect', 'Defect', 'Defect', 'Defect', 'Defect', 'Defect', 'Defect', 'Defect', 'Defect', 'Defect', 'Defect', 'Defect', 'Defect', 'Defect', 'Defect', 'Defect', 'Defect', 'Defect', 'Defect', 'Defect', 'Defect', 'Defect', 'Defect', 'Defect', 'Defect', 'Defect', 'Defect', 'Defect', 'Defect', 'Defect', 'Defect', 'Defect', 'Defect', 'Defect', 'Defect', 'Defect', 'Defect', 'Defect', 'Defect', 'Defect', 'Defect', 'Defect', 'Defect', 'Defect', 'Defect', 'Defect', 'Defect', 'Defect', 'Defect', 'Defect', 'Defect', 'Defect', 'Defect', 'Defect', 'Defect', 'Defect', 'Defect', 'Defect', 'Defect', 'Defect', 'Defect', 'Defect', 'Defect', 'Defect', 'Defect', 'Defect', 'Defect', 'Defect', 'Defect', 'Defect', 'Defect', 'Defect', 'Defect', 'Defect', 'Defect', 'Defect', 'Defect', 'Defect', 'Defect', 'Defect', 'Defect', 'Defect', 'Defect', 'Defect', 'Defect', 'Defect', 'Defect', 'Defect', 'Defect', 'Defect', 'Defect', 'Defect', 'Defect', 'Defect', 'Defect', 'Defect', 'Defect', 'Defect', 'Defect', 'Defect', 'Defect', 'Defect', 'Defect', 'Defect', 'Defect', 'Defect', 'Defect', 'Defect', 'Defect', 'Defect', 'Defect', 'Defect', 'Defect', 'Defect', 'Defect', 'Defect', 'Defect', 'Defect', 'Defect', 'Defect', 'Defect', 'Defect', 'Defect', 'Defect', 'Defect', 'Defect', 'Defect', 'Defect', 'Defect', 'Defect', 'Defect', 'Defect', 'Defect', 'Defect', 'Defect', 'Defect', 'Defect', 'Defect', 'Defect', 'Defect', 'Defect', 'Defect', 'Defect', 'Defect', 'Defect', 'Defect', 'Defect', 'Defect', 'Defect', 'Defect', 'Defect', 'Defect', 'Defect', 'Defect', 'Defect', 'Defect', 'Defect', 'Defect', 'Defect', 'Defect', 'Defect', 'Defect', 'Defect', 'Defect', 'Defect', 'Defect', 'Defect', 'Defect', 'Defect', 'Defect', 'Defect', 'Defect', 'Defect', 'Defect', 'Defect', 'Defect', 'Defect', 'Defect', 'Defect', 'Defect', 'Defect', 'Defect', 'Defect', 'Defect', 'Defect', 'Defect', 'Defect', 'Defect', 'Defect', 'Defect', 'Defect', 'Defect', 'Defect', 'Defect', 'Defect', 'Defect', 'Defect', 'Defect', 'Defect', 'Defect', 'Defect', 'Defect', 'Defect', 'Defect', 'Defect', 'Defect', 'Defect', 'Defect', 'Defect', 'Defect', 'Defect', 'Defect', 'Defect', 'Defect', 'Defect', 'Defect', 'Defect', 'Defect', 'Defect', 'Defect', 'Defect', 'Defect', 'Defect', 'Defect', 'Defect', 'Defect', 'Defect', 'Defect', 'Defect', 'Defect', 'Defect', 'Defect', 'Defect', 'Defect', 'Defect', 'Defect', 'Defect', 'Defect', 'Defect', 'Defect', 'Defect', 'Defect', 'Defect', 'Defect', 'Defect', 'Defect', 'Defect', 'Defect', 'Defect', 'Defect', 'Defect', 'Defect', 'Defect', 'Defect', 'Defect', 'Defect', 'Defect', 'Defect', 'Defect', 'Defect', 'Defect', 'Defect', 'Defect', 'Defect', 'Defect', 'Defect', 'Defect', 'Defect', 'Defect', 'Defect', 'Defect', 'Defect', 'Defect', 'Defect', 'Defect', 'Defect', 'Defect', 'Defect', 'Defect', 'Defect', 'Defect', 'Defect', 'Defect', 'Defect', 'Defect', 'Defect', 'Defect', 'Defect', 'Defect', 'Defect', 'Defect', 'Defect', 'Defect', 'Defect', 'Defect', 'Defect', 'Defect', 'Defect', 'Defect', 'Defect', 'Defect', 'Defect', 'Defect', 'Defect', 'Defect', 'Defect', 'Defect', 'Defect', 'Defect', 'Defect', 'Defect', 'Defect', 'Defect', 'Defect', 'Defect', 'Defect', 'Defect', 'Defect', 'Defect', 'Defect', 'Defect', 'Defect', 'Defect', 'Defect', 'Defect', 'Defect', 'Defect', 'Defect', 'Defect', 'Defect', 'Defect', 'Defect', 'Defect', 'Defect', 'Defect', 'Defect', 'Defect', 'Defect', 'Defect', 'Defect', 'Defect', 'Defect', 'Defect', 'Defect', 'Defect', 'Defect', 'Defect', 'Defect', 'Defect', 'Defect', 'Defect', 'Defect', 'Defect', 'Defect', 'Defect', 'Defect', 'Defect', 'Defect', 'Defect', 'Defect', 'Defect', 'Defect', 'Defect', 'Defect', 'Defect', 'Defect', 'Defect', 'Defect', 'Defect', 'Defect', 'Defect', 'Defect', 'Defect', 'Defect', 'Defect', 'Defect', 'Defect', 'Defect', 'Defect', 'Defect', 'Defect', 'Defect', 'Defect', 'Defect', 'Defect', 'Defect', 'Defect', 'Defect', 'Defect', 'Defect', 'Defect', 'Defect', 'Defect', 'Defect', 'Defect', 'Defect', 'Defect', 'Defect', 'Defect', 'Defect', 'Defect', 'Defect', 'Defect', 'Defect', 'Defect', 'Defect', 'Defect', 'Defect', 'Defect', 'Defect', 'Defect', 'Defect', 'Defect', 'Defect', 'Defect', 'Defect', 'Defect', 'Defect', 'Defect', 'Defect', 'Defect', 'Defect', 'Defect', 'Defect', 'Defect', 'Defect', 'Defect', 'Defect', 'Defect', 'Defect', 'Defect', 'Defect', 'Defect', 'Defect', 'Defect', 'Defect', 'Defect', 'Defect', 'Defect', 'Defect', 'Defect', 'Defect', 'Defect', 'Defect', 'Defect', 'Defect', 'Defect', 'Defect', 'Defect', 'Defect', 'Defect', 'Defect', 'Defect', 'Defect', 'Defect', 'Defect', 'Defect', 'Defect', 'Defect', 'Defect', 'Defect', 'Defect', 'Defect', 'Defect', 'Defect', 'Defect', 'Defect', 'Defect', 'Defect', 'Defect', 'Defect', 'Defect', 'Defect', 'Defect', 'Defect', 'Defect', 'Defect', 'Defect', 'Defect', 'Defect', 'Defect', 'Defect', 'Defect', 'Defect', 'Defect', 'Defect', 'Defect', 'Defect', 'Defect', 'Defect', 'Defect', 'Defect', 'Defect', 'Defect', 'Defect', 'Defect', 'Defect', 'Defect', 'Defect', 'Defect', 'Defect', 'Defect', 'Defect', 'Defect', 'Defect', 'Defect', 'Defect', 'Defect', 'Defect', 'Defect', 'Defect', 'Defect', 'Defect', 'Defect', 'Defect', 'Defect', 'Defect', 'Defect', 'Defect', 'Defect', 'Defect', 'Defect', 'Defect', 'Defect', 'Defect', 'Defect', 'Defect', 'Defect', 'Defect', 'Defect', 'Defect', 'Defect', 'Defect', 'Defect', 'Defect', 'Defect', 'Defect', 'Defect', 'Defect', 'Defect', 'Defect', 'Defect', 'Defect', 'Defect', 'Defect', 'Defect', 'Defect', 'Defect', 'Defect', 'Defect', 'Defect', 'Defect', 'Defect', 'Defect', 'Defect', 'Defect', 'Defect', 'Defect', 'Defect', 'Defect', 'Defect', 'Defect', 'Defect', 'Defect', 'Defect', 'Defect', 'Defect', 'Defect', 'Defect', 'Defect', 'Defect', 'Defect', 'Defect', 'Defect', 'Defect', 'Defect', 'Defect', 'Defect', 'Defect', 'Defect', 'Defect', 'Defect', 'Defect', 'Defect', 'Defect', 'Defect', 'Defect', 'Defect', 'Defect', 'Defect', 'Defect', 'Defect', 'Defect', 'Defect', 'Defect', 'Defect', 'Defect', 'Defect', 'Defect', 'Defect', 'Defect', 'Defect', 'Defect', 'Defect', 'Defect', 'Defect', 'Defect', 'Defect', 'Defect', 'Defect', 'Defect', 'Defect', 'Defect', 'Defect', 'Defect', 'Defect', 'Defect', 'Defect', 'Defect', 'Defect', 'Defect', 'Defect', 'Defect', 'Defect', 'Defect', 'Defect', 'Defect', 'Defect', 'Defect', 'Defect', 'Defect', 'Defect', 'Defect', 'Defect', 'Defect', 'Defect', 'Defect', 'Defect', 'Defect', 'Defect', 'Defect', 'Defect', 'Defect', 'Defect', 'Defect', 'Defect', 'Defect', 'Defect', 'Defect', 'Defect', 'Defect', 'Defect', 'Defect', 'Defect', 'Defect', 'Defect', 'Defect', 'Defect', 'Defect', 'Defect', 'Defect', 'Defect', 'Defect', 'Defect', 'Defect', 'Defect', 'Defect', 'Defect', 'Defect', 'Defect', 'Defect', 'Defect', 'Defect', 'Defect', 'Defect', 'Defect', 'Defect', 'Defect', 'Defect', 'Defect', 'Defect', 'Defect', 'Defect', 'Defect', 'Defect', 'Defect', 'Defect', 'Defect', 'Defect', 'Defect', 'Defect', 'Defect', 'Defect', 'Defect', 'Defect', 'Defect', 'Defect', 'Defect', 'Defect', 'Defect', 'Defect', 'Defect', 'Defect', 'Defect', 'Defect', 'Defect', 'Defect', 'Defect', 'Defect', 'Defect', 'Defect', 'Defect', 'Defect', 'Defect', 'Defect', 'Defect', 'Defect', 'Defect', 'Defect', 'Defect', 'Defect', 'Defect', 'Defect', 'Defect', 'Defect', 'Defect', 'Defect', 'Defect', 'Defect', 'Defect', 'Defect', 'Defect', 'Defect', 'Defect', 'Defect', 'Defect', 'Defect', 'Defect', 'Defect', 'Defect', 'Defect', 'Defect', 'Defect', 'Defect', 'Defect', 'Defect', 'Defect', 'Defect', 'Defect', 'Defect', 'Defect', 'Defect', 'Defect', 'Defect', 'Defect', 'Defect', 'Defect', 'Defect', 'Defect', 'Defect', 'Defect', 'Defect', 'Defect', 'Defect', 'Defect', 'Defect', 'Defect', 'Defect', 'Defect', 'Defect', 'Defect', 'Defect', 'Defect', 'Defect', 'Defect', 'Defect', 'Defect', 'Defect', 'Defect', 'Defect', 'Defect', 'Defect', 'Defect', 'Defect', 'Defect', 'Defect', 'Defect', 'Defect', 'Defect', 'Defect', 'Defect', 'Defect', 'Defect', 'Defect', 'Defect', 'Defect', 'Defect', 'Defect', 'Defect', 'Defect', 'Defect', 'Defect', 'Defect', 'Defect', 'Defect', 'Defect', 'Defect', 'Defect', 'Defect', 'Defect', 'Defect', 'Defect', 'Defect', 'Defect', 'Defect', 'Defect', 'Defect', 'Defect', 'Defect', 'Defect', 'Defect', 'Defect', 'Defect', 'Defect', 'Defect', 'Defect', 'Defect', 'Defect', 'Defect', 'Defect', 'Defect', 'Defect', 'Defect', 'Defect', 'Defect', 'Defect', 'Defect', 'Defect', 'Defect', 'Defect', 'Defect', 'Defect', 'Defect', 'Defect', 'Defect', 'Defect', 'Defect', 'Defect', 'Defect', 'Defect', 'Defect', 'Defect', 'Defect', 'Defect', 'Defect', 'Defect', 'Defect', 'Defect', 'Defect', 'Defect', 'Defect', 'Defect', 'Defect', 'Defect', 'Defect', 'Defect', 'Defect', 'Defect', 'Defect', 'Defect', 'Defect', 'Defect', 'Defect', 'Defect', 'Defect', 'Defect', 'Defect', 'Defect', 'Defect', 'Defect', 'Defect', 'Defect', 'Defect', 'Defect', 'Defect', 'Defect', 'Defect', 'Defect', 'Defect', 'Defect', 'Defect', 'Defect', 'Defect', 'Defect', 'Defect', 'Defect', 'Defect', 'Defect', 'Defect', 'Defect', 'Defect', 'Defect', 'Defect', 'Defect', 'Defect', 'Defect', 'Defect', 'Defect', 'Defect', 'Defect', 'Defect', 'Defect', 'Defect', 'Defect', 'Defect', 'Defect', 'Defect', 'Defect', 'Defect', 'Defect', 'Defect', 'Defect', 'Defect', 'Defect', 'Defect', 'Defect', 'Defect', 'Defect', 'Defect', 'Defect', 'Defect', 'Defect', 'Defect', 'Defect', 'Defect', 'Defect', 'Defect', 'Defect', 'Defect', 'Defect', 'Defect', 'Defect', 'Defect', 'Defect', 'Defect', 'Defect', 'Defect', 'Defect', 'Defect', 'Defect', 'Defect', 'Defect', 'Defect', 'Defect', 'Defect', 'Defect', 'Defect', 'Defect', 'Defect', 'Defect', 'Defect', 'Defect', 'Defect', 'Defect', 'Defect', 'Defect', 'Defect', 'Defect', 'Defect', 'Defect', 'Defect', 'Defect', 'Defect', 'Defect', 'Defect', 'Defect', 'Defect', 'Defect', 'Defect', 'Defect', 'Defect', 'Defect', 'Defect', 'Defect', 'Defect', 'Defect', 'Defect', 'Defect', 'Defect', 'Defect', 'Defect', 'Defect', 'Defect', 'Defect', 'Defect', 'Defect', 'Defect', 'Defect', 'Defect', 'Defect', 'Defect', 'Defect', 'Defect', 'Defect', 'Defect', 'Defect', 'Defect', 'Defect', 'Defect', 'Defect', 'Defect', 'Defect', 'Defect', 'Defect', 'Defect', 'Defect', 'Defect', 'Defect', 'Defect', 'Defect', 'Defect', 'Defect', 'Defect', 'Defect', 'Defect', 'Defect', 'Defect', 'Defect', 'Defect', 'Defect', 'Defect', 'Defect', 'Defect', 'Defect', 'Defect', 'Defect', 'Defect', 'Defect', 'Defect', 'Defect', 'Defect', 'Defect', 'Defect', 'Defect', 'Defect', 'Defect', 'Defect', 'Defect', 'Defect', 'Defect', 'Defect', 'Defect', 'Defect', 'Defect', 'Defect', 'Defect', 'Defect', 'Defect', 'Defect', 'Defect', 'Defect', 'Defect', 'Defect', 'Defect', 'Defect', 'Defect', 'Defect', 'Defect', 'Defect', 'Defect', 'Defect', 'Defect', 'Defect', 'Defect', 'Defect', 'Defect', 'Defect', 'Defect', 'Defect', 'Defect', 'Defect', 'Defect', 'Defect', 'Defect', 'Defect', 'Defect', 'Defect', 'Defect', 'Defect', 'Defect', 'Defect', 'Defect', 'Defect', 'Defect', 'Defect', 'Defect', 'Defect', 'Defect', 'Defect', 'Defect', 'Defect', 'Defect', 'Defect', 'Defect', 'Defect', 'Defect', 'Defect', 'Defect', 'Defect', 'Defect', 'Defect', 'Defect', 'Defect', 'Defect', 'Defect', 'Defect', 'Defect', 'Defect', 'Defect', 'Defect', 'Defect', 'Defect', 'Defect', 'Defect', 'Defect', 'Defect', 'Defect', 'Defect', 'Defect', 'Defect', 'Defect', 'Defect', 'Defect', 'Defect', 'Defect', 'Defect', 'Defect', 'Defect', 'Defect', 'Defect', 'Defect', 'Defect', 'Defect', 'Defect', 'Defect', 'Defect', 'Defect', 'Defect', 'Defect', 'Defect', 'Defect', 'Defect', 'Defect', 'Defect', 'Defect', 'Defect', 'Defect', 'Defect', 'Defect', 'Defect', 'Defect', 'Defect', 'Defect', 'Defect', 'Defect', 'Defect', 'Defect', 'Defect', 'Defect', 'Defect', 'Defect', 'Defect', 'Defect', 'Defect', 'Defect', 'Defect', 'Defect', 'Defect', 'Defect', 'Defect', 'Defect', 'Defect', 'Defect', 'Defect', 'Defect', 'Defect', 'Defect', 'Defect', 'Defect', 'Defect', 'Defect', 'Defect', 'Defect', 'Defect', 'Defect', 'Defect', 'Defect', 'Defect', 'Defect', 'Defect', 'Defect', 'Defect', 'Defect', 'Defect', 'Defect', 'Defect', 'Defect', 'Defect', 'Defect', 'Defect', 'Defect', 'Defect', 'Defect', 'Defect', 'Defect', 'Defect', 'Defect', 'Defect', 'Defect', 'Defect', 'Defect', 'Defect', 'Defect', 'Defect', 'Defect', 'Defect', 'Defect', 'Defect', 'Defect', 'Defect', 'Defect', 'Defect', 'Defect', 'Defect', 'Defect', 'Defect', 'Defect', 'Defect', 'Defect', 'Defect', 'Defect', 'Defect', 'Defect', 'Defect', 'Defect', 'Defect', 'Defect', 'Defect', 'Defect', 'Defect', 'Defect', 'Defect', 'Defect', 'Defect', 'Defect', 'Defect', 'Defect', 'Defect', 'Defect', 'Defect', 'Defect', 'Defect', 'Defect', 'Defect', 'Defect', 'Defect', 'Defect', 'Defect', 'Defect', 'Defect', 'Defect', 'Defect', 'Defect', 'Defect', 'Defect', 'Defect', 'Defect', 'Defect', 'Defect', 'Defect', 'Defect', 'Defect', 'Defect', 'Defect', 'Defect', 'Defect', 'Defect', 'Defect', 'Defect', 'Defect', 'Defect', 'Defect', 'Defect', 'Defect', 'Defect', 'Defect', 'Defect', 'Defect', 'Defect', 'Defect', 'Defect', 'Defect', 'Defect', 'Defect', 'Defect', 'Defect', 'Defect', 'Defect', 'Defect', 'Defect', 'Defect', 'Defect', 'Defect', 'Defect', 'Defect', 'Defect', 'Defect', 'Defect', 'Defect', 'Defect', 'Defect', 'Defect', 'Defect', 'Defect', 'Defect', 'Defect', 'Defect', 'Defect', 'Defect', 'Defect', 'Defect', 'Defect', 'Defect', 'Defect', 'Defect', 'Defect', 'Defect', 'Defect', 'Defect', 'Defect', 'Defect', 'Defect', 'Defect', 'Defect', 'Defect', 'Defect', 'Defect', 'Defect', 'Defect', 'Defect', 'Defect', 'Defect', 'Defect', 'Defect', 'Defect', 'Defect', 'Defect', 'Defect', 'Defect', 'Defect', 'Defect', 'Defect', 'Defect', 'Defect', 'Defect', 'Defect', 'Defect', 'Defect', 'Defect', 'Defect', 'Defect', 'Defect', 'Defect', 'Defect', 'Defect', 'Defect', 'Defect', 'Defect', 'Defect', 'Defect', 'Defect', 'Defect', 'Defect', 'Defect', 'Defect', 'Defect', 'Defect', 'Defect', 'Defect', 'Defect', 'Defect', 'Defect', 'Defect', 'Defect', 'Defect', 'Defect', 'Defect', 'Defect', 'Defect', 'Defect', 'Defect', 'Defect', 'Defect', 'Defect', 'Defect', 'Defect', 'Defect', 'Defect', 'Defect', 'Defect', 'Defect', 'Defect', 'Defect', 'Defect', 'Defect', 'Defect', 'Defect', 'Defect', 'Defect', 'Defect', 'Defect', 'Defect', 'Defect', 'Defect', 'Defect', 'Defect', 'Defect', 'Defect', 'Defect', 'Defect', 'Defect', 'Defect', 'Defect', 'Defect', 'Defect', 'Defect', 'Defect', 'Defect', 'Defect', 'Defect', 'Defect', 'Defect', 'Defect', 'Defect', 'Defect', 'Defect', 'Defect', 'Defect', 'Defect', 'Defect', 'Defect', 'Defect', 'Defect', 'Defect', 'Defect', 'Defect', 'Defect', 'Defect', 'Defect', 'Defect', 'Defect', 'Defect', 'Defect', 'Defect', 'Defect', 'Defect', 'Defect', 'Defect', 'Defect', 'Defect', 'Defect', 'Defect', 'Defect', 'Defect', 'Defect', 'Defect', 'Defect', 'Defect', 'Defect', 'Defect', 'Defect', 'Defect', 'Defect', 'Defect', 'Defect', 'Defect', 'Defect', 'Defect', 'Defect', 'Defect', 'Defect', 'Defect', 'Defect', 'Defect', 'Defect', 'Defect', 'Defect', 'Defect', 'Defect', 'Defect', 'Defect', 'Defect', 'Defect', 'Defect', 'Defect', 'Defect', 'Defect', 'Defect', 'Defect', 'Defect', 'Defect', 'Defect', 'Defect', 'Defect', 'Defect', 'Defect', 'Defect', 'Defect', 'Defect', 'Defect', 'Defect', 'Defect', 'Defect', 'Defect', 'Defect', 'Defect', 'Defect', 'Defect', 'Defect', 'Defect', 'Defect', 'Defect', 'Defect', 'Defect', 'Defect', 'Defect', 'Defect', 'Defect', 'Defect', 'Defect', 'Defect', 'Defect', 'Defect', 'Defect', 'Defect', 'Defect', 'Defect', 'Defect', 'Defect', 'Defect', 'Defect', 'Defect', 'Defect', 'Defect', 'Defect', 'Defect', 'Defect', 'Defect', 'Defect', 'Defect', 'Defect', 'Defect', 'Defect', 'Defect', 'Defect', 'Defect', 'Defect', 'Defect', 'Defect', 'Defect', 'Defect', 'Defect', 'Defect', 'Defect', 'Defect', 'Defect', 'Defect', 'Defect', 'Defect', 'Defect', 'Defect', 'Defect', 'Defect', 'Defect', 'Defect', 'Defect', 'Defect', 'Defect', 'Defect', 'Defect', 'Defect', 'Defect', 'Defect', 'Defect', 'Defect', 'Defect', 'Defect', 'Defect', 'Defect', 'Defect', 'Defect', 'Defect', 'Defect', 'Defect', 'Defect', 'Defect', 'Defect', 'Defect', 'Defect', 'Defect', 'Defect', 'Defect', 'Defect', 'Defect', 'Defect', 'Defect', 'Defect', 'Defect', 'Defect', 'Defect', 'Defect', 'Defect', 'Defect', 'Defect', 'Defect', 'Defect', 'Defect', 'Defect', 'Defect', 'Defect', 'Defect', 'Defect', 'Defect', 'Defect', 'Defect', 'Defect', 'Defect', 'Defect', 'Defect', 'Defect', 'Defect', 'Defect', 'Defect', 'Defect', 'Defect', 'Defect', 'Defect', 'Defect', 'Defect', 'Defect', 'Defect', 'Defect', 'Defect', 'Defect', 'Defect', 'Defect', 'Defect', 'Defect', 'Defect', 'Defect', 'Defect', 'Defect', 'Defect', 'Defect', 'Defect', 'Defect', 'Defect', 'Defect', 'Defect', 'Defect', 'Defect', 'Defect', 'Defect', 'Defect', 'Defect', 'Defect', 'Defect', 'Defect', 'Defect', 'Defect', 'Defect', 'Defect', 'Defect', 'Defect', 'Defect', 'Defect', 'Defect', 'Defect', 'Defect', 'Defect', 'Defect', 'Defect', 'Defect', 'Defect', 'Defect', 'Defect', 'Defect', 'Defect', 'Defect', 'Defect', 'Defect', 'Defect', 'Defect', 'Defect', 'Defect', 'Defect', 'Defect', 'Defect', 'Defect', 'Defect', 'Defect', 'Defect', 'Defect', 'Defect', 'Defect', 'Defect', 'Defect', 'Defect', 'Defect', 'Defect', 'Defect', 'Defect', 'Defect', 'Defect', 'Defect', 'Defect', 'Defect', 'Defect', 'Defect', 'Defect', 'Defect', 'Defect', 'Defect', 'Defect', 'Defect', 'Defect', 'Defect', 'Defect', 'Defect', 'Defect', 'Defect', 'Defect', 'Defect', 'Defect', 'Defect', 'Defect', 'Defect', 'Defect', 'Defect', 'Defect', 'Defect', 'Defect', 'Defect', 'Defect', 'Defect', 'Defect', 'Defect', 'Defect', 'Defect', 'Defect', 'Defect', 'Defect', 'Defect', 'Defect', 'Defect', 'Defect', 'Defect', 'Defect', 'Defect', 'Defect', 'Defect', 'Defect', 'Defect', 'Defect', 'Defect', 'Defect', 'Defect', 'Defect', 'Defect', 'Defect', 'Defect', 'Defect', 'Defect', 'Defect', 'Defect', 'Defect', 'Defect', 'Defect', 'Defect', 'Defect', 'Defect', 'Defect', 'Defect', 'Defect', 'Defect', 'Defect', 'Defect', 'Defect', 'Defect', 'Defect', 'Defect', 'Defect', 'Defect', 'Defect', 'Defect', 'Defect', 'Defect', 'Defect', 'Defect', 'Defect', 'Defect', 'Defect', 'Defect', 'Defect', 'Defect', 'Defect', 'Defect', 'Defect', 'Defect', 'Defect', 'Defect', 'Defect', 'Defect', 'Defect', 'Defect', 'Defect', 'Defect', 'Defect', 'Defect', 'Defect', 'Defect', 'Defect', 'Defect', 'Defect', 'Defect', 'Defect', 'Defect', 'Defect', 'Defect', 'Defect', 'Defect', 'Defect', 'Defect', 'Defect', 'Defect', 'Defect', 'Defect', 'Defect', 'Defect', 'Defect', 'Defect', 'Defect', 'Defect', 'Defect', 'Defect', 'Defect', 'Defect', 'Defect', 'Defect', 'Defect', 'Defect', 'Defect', 'Defect', 'Defect', 'Defect', 'Defect', 'Defect', 'Defect', 'Defect', 'Defect', 'Defect', 'Defect', 'Defect', 'Defect', 'Defect', 'Defect', 'Defect', 'Defect', 'Defect', 'Defect', 'Defect', 'Defect', 'Defect', 'Defect', 'Defect', 'Defect', 'Defect', 'Defect', 'Defect', 'Defect', 'Defect', 'Defect', 'Defect', 'Defect', 'Defect', 'Defect', 'Defect', 'Defect', 'Defect', 'Defect', 'Defect', 'Defect', 'Defect', 'Defect', 'Defect', 'Defect', 'Defect', 'Defect', 'Defect', 'Defect', 'Defect', 'Defect', 'Defect', 'Defect', 'Defect', 'Defect', 'Defect', 'Defect', 'Defect', 'Defect', 'Defect', 'Defect', 'Defect', 'Defect', 'Defect', 'Defect', 'Defect', 'Defect', 'Defect', 'Defect', 'Defect', 'Defect', 'Defect', 'Defect', 'Defect', 'Defect', 'Defect', 'Defect', 'Defect', 'Defect', 'Defect', 'Defect', 'Defect', 'Defect', 'Defect', 'Defect', 'Defect', 'Defect', 'Defect', 'Defect', 'Defect', 'Defect', 'Defect', 'Defect', 'Defect', 'Defect', 'Defect', 'Defect', 'Defect', 'Defect', 'Defect', 'Defect', 'Defect', 'Defect', 'Defect', 'Defect', 'Defect', 'Defect', 'Defect', 'Defect', 'Defect', 'Defect', 'Defect', 'Defect', 'Defect', 'Defect', 'Defect', 'Defect', 'Defect', 'Defect', 'Defect', 'Defect', 'Defect', 'Defect', 'Defect', 'Defect', 'Defect', 'Defect', 'Defect', 'Defect', 'Defect', 'Defect', 'Defect', 'Defect', 'Defect', 'Defect', 'Defect', 'Defect', 'Defect', 'Defect', 'Defect', 'Defect', 'Defect', 'Defect', 'Defect', 'Defect', 'Defect', 'Defect', 'Defect', 'Defect', 'Defect', 'Defect', 'Defect', 'Defect', 'Defect', 'Defect', 'Defect', 'Defect', 'Defect', 'Defect', 'Defect', 'Defect', 'Defect', 'Defect', 'Defect', 'Defect', 'Defect', 'Defect', 'Defect', 'Defect', 'Defect', 'Defect', 'Defect', 'Defect', 'Defect', 'Defect', 'Defect', 'Defect', 'Defect', 'Defect', 'Defect', 'Defect', 'Defect', 'Defect', 'Defect', 'Defect', 'Defect', 'Defect', 'Defect', 'Defect', 'Defect', 'Defect', 'Defect', 'Defect', 'Defect', 'Defect', 'Defect', 'Defect', 'Defect', 'Defect', 'Defect', 'Defect', 'Defect', 'Defect', 'Defect', 'Defect', 'Defect', 'Defect', 'Defect', 'Defect', 'Defect', 'Defect', 'Defect', 'Defect', 'Defect', 'Defect', 'Defect', 'Defect', 'Defect', 'Defect', 'Defect', 'Defect', 'Defect', 'Defect', 'Defect', 'Defect', 'Defect', 'Defect', 'Defect', 'Defect', 'Defect', 'Defect', 'Defect', 'Defect', 'Defect', 'Defect', 'Defect', 'Defect', 'Defect', 'Defect', 'Defect', 'Defect', 'Defect', 'Defect', 'Defect', 'Defect', 'Defect', 'Defect', 'Defect', 'Defect', 'Defect', 'Defect', 'Defect', 'Defect', 'Defect', 'Defect', 'Defect', 'Defect', 'Defect', 'Defect', 'Defect', 'Defect', 'Defect', 'Defect', 'Defect', 'Defect', 'Defect', 'Defect', 'Defect', 'Defect', 'Defect', 'Defect', 'Defect', 'Defect', 'Defect', 'Defect', 'Defect', 'Defect', 'Defect', 'Defect', 'Defect', 'Defect', 'Defect', 'Defect', 'Defect', 'Defect', 'Defect', 'Defect', 'Defect', 'Defect', 'Defect', 'Defect', 'Defect', 'Defect', 'Defect', 'Defect', 'Defect', 'Defect', 'Defect', 'Defect', 'Defect', 'Defect', 'Defect', 'Defect', 'Defect', 'Defect', 'Defect', 'Defect', 'Defect', 'Defect', 'Defect', 'Defect', 'Defect', 'Defect', 'Defect', 'Defect', 'Defect', 'Defect', 'Defect', 'Defect', 'Defect', 'Defect', 'Defect', 'Defect', 'Defect', 'Defect', 'Defect', 'Defect', 'Defect', 'Defect', 'Defect', 'Defect', 'Defect', 'Defect', 'Defect', 'Defect', 'Defect', 'Defect', 'Defect', 'Defect', 'Defect', 'Defect', 'Defect', 'Defect', 'Defect', 'Defect', 'Defect', 'Defect', 'Defect', 'Defect', 'Defect', 'Defect', 'Defect', 'Defect', 'Defect', 'Defect', 'Defect', 'Defect', 'Defect', 'Defect', 'Defect', 'Defect', 'Defect', 'Defect', 'Defect', 'Defect', 'Defect', 'Defect', 'Defect', 'Defect', 'Defect', 'Defect', 'Defect', 'Defect', 'Defect', 'Defect', 'Defect', 'Defect', 'Defect', 'Defect', 'Defect', 'Defect', 'Defect', 'Defect', 'Defect', 'Defect', 'Defect', 'Defect', 'Defect', 'Defect', 'Defect', 'Defect', 'Defect', 'Defect', 'Defect', 'Defect', 'Defect', 'Defect', 'Defect', 'Defect', 'Defect', 'Defect', 'Defect', 'Defect', 'Defect', 'Defect', 'Defect', 'Defect', 'Defect', 'Defect', 'Defect', 'Defect', 'Defect', 'Defect', 'Defect', 'Defect', 'Defect', 'Defect', 'Defect', 'Defect', 'Defect', 'Defect', 'Defect', 'Defect', 'Defect', 'Defect', 'Defect', 'Defect', 'Defect', 'Defect', 'Defect', 'Defect', 'Defect', 'Defect', 'Defect', 'Defect', 'Defect', 'Defect', 'Defect', 'Defect', 'Defect', 'Defect', 'Defect', 'Defect', 'Defect', 'Defect', 'Defect', 'Defect', 'Defect', 'Defect', 'Defect', 'Defect', 'Defect', 'Defect', 'Defect', 'Defect', 'Defect', 'Defect', 'Defect', 'Defect', 'Defect', 'Defect', 'Defect', 'Defect', 'Defect', 'Defect', 'Defect', 'Defect', 'Defect', 'Defect', 'Defect', 'Defect', 'Defect', 'Defect', 'Defect', 'Defect', 'Defect', 'Defect', 'Defect', 'Defect', 'Defect', 'Defect', 'Defect', 'Defect', 'Defect', 'Defect', 'Defect', 'Defect', 'Defect', 'Defect', 'Defect', 'Defect', 'Defect', 'Defect', 'Defect', 'Defect', 'Defect', 'Defect', 'Defect', 'Defect', 'Defect', 'Defect', 'Defect', 'Defect', 'Defect', 'Defect', 'Defect', 'Defect', 'Defect', 'Defect', 'Defect', 'Defect', 'Defect', 'Defect', 'Defect', 'Defect', 'Defect', 'Defect', 'Defect', 'Defect', 'Defect', 'Defect', 'Defect', 'Defect', 'Defect', 'Defect', 'Defect', 'Defect', 'Defect', 'Defect', 'Defect', 'Defect', 'Defect', 'Defect', 'Defect', 'Defect', 'Defect', 'Defect', 'Defect', 'Defect', 'Defect', 'Defect', 'Defect', 'Defect', 'Defect', 'Defect', 'Defect', 'Defect', 'Defect', 'Defect', 'Defect', 'Defect', 'Defect', 'Defect', 'Defect', 'Defect', 'Defect', 'Defect', 'Defect', 'Defect', 'Defect', 'Defect', 'Defect', 'Defect', 'Defect', 'Defect', 'Defect', 'Defect', 'Defect', 'Defect', 'Defect', 'Defect', 'Defect', 'Defect', 'Defect', 'Defect', 'Defect', 'Defect', 'Defect', 'Defect', 'Defect', 'Defect', 'Defect', 'Defect', 'Defect', 'Defect', 'Defect', 'Defect', 'Defect', 'Defect', 'Defect', 'Defect', 'Defect', 'Defect', 'Defect', 'Defect', 'Defect', 'Defect', 'Defect', 'Defect', 'Defect', 'Defect', 'Defect', 'Defect', 'Defect', 'Defect', 'Defect', 'Defect', 'Defect', 'Defect', 'Defect', 'Defect', 'Defect', 'Defect', 'Defect', 'Defect', 'Defect', 'Defect', 'Defect', 'Defect', 'Defect', 'Defect', 'Defect', 'Defect', 'Defect', 'Defect', 'Defect', 'Defect', 'Defect', 'Defect', 'Defect', 'Defect', 'Defect', 'Defect', 'Defect', 'Defect', 'Defect', 'Defect', 'Defect', 'Defect', 'Defect', 'Defect', 'Defect', 'Defect', 'Defect', 'Defect', 'Defect', 'Defect', 'Defect', 'Defect', 'Defect', 'Defect', 'Defect', 'Defect', 'Defect', 'Defect', 'Defect', 'Defect', 'Defect', 'Defect', 'Defect', 'Defect', 'Defect', 'Defect', 'Defect', 'Defect', 'Defect', 'Defect', 'Defect', 'Defect', 'Defect', 'Defect', 'Defect', 'Defect', 'Defect', 'Defect', 'Defect', 'Defect', 'Defect', 'Defect', 'Defect', 'Defect', 'Defect', 'Defect', 'Defect', 'Defect', 'Defect', 'Defect', 'Defect', 'Defect', 'Defect', 'Defect', 'Defect', 'Defect', 'Defect', 'Defect', 'Defect', 'Defect', 'Defect', 'Defect', 'Defect', 'Defect', 'Defect', 'Defect', 'Defect', 'Defect', 'Defect', 'Defect', 'Defect', 'Defect', 'Defect', 'Defect', 'Defect', 'Defect', 'Defect', 'Defect', 'Defect', 'Defect', 'Defect', 'Defect', 'Defect', 'Defect', 'Defect', 'Defect', 'Defect', 'Defect', 'Defect', 'Defect', 'Defect', 'Defect', 'Defect', 'Defect', 'Defect', 'Defect', 'Defect', 'Defect', 'Defect', 'Defect', 'Defect', 'Defect', 'Defect', 'Defect', 'Defect', 'Defect', 'Defect', 'Defect', 'Defect', 'Defect', 'Defect', 'Defect', 'Defect', 'Defect', 'Defect', 'Defect', 'Defect', 'Defect', 'Defect', 'Defect', 'Defect', 'Defect', 'Defect', 'Defect', 'Defect', 'Defect', 'Defect', 'Defect', 'Defect', 'Defect', 'Defect', 'Defect', 'Defect', 'Defect', 'Defect', 'Defect', 'Defect', 'Defect', 'Defect', 'Defect', 'Defect', 'Defect', 'Defect', 'Defect', 'Defect', 'Defect', 'Defect', 'Defect', 'Defect', 'Defect', 'Defect', 'Defect', 'Defect', 'Defect', 'Defect', 'Defect', 'Defect', 'Defect', 'Defect', 'Defect', 'Defect', 'Defect', 'Defect', 'Defect', 'Defect', 'Defect', 'Defect', 'Defect', 'Defect', 'Defect', 'Defect', 'Defect', 'Defect', 'Defect', 'Defect', 'Defect', 'Defect', 'Defect', 'Defect', 'Defect', 'Defect', 'Defect', 'Defect', 'Defect', 'Defect', 'Defect', 'Defect', 'Defect', 'Defect', 'Defect', 'Defect', 'Defect', 'Defect', 'Defect', 'Defect', 'Defect', 'Defect', 'Defect', 'Defect', 'Defect', 'Defect', 'Defect', 'Defect', 'Defect', 'Defect', 'Defect', 'Defect', 'Defect', 'Defect', 'Defect', 'Defect', 'Defect', 'Defect', 'Defect', 'Defect', 'Defect', 'Defect', 'Defect', 'Defect', 'Defect', 'Defect', 'Defect', 'Defect', 'Defect', 'Defect', 'Defect', 'Defect', 'Defect', 'Defect', 'Defect', 'Defect', 'Defect', 'Defect', 'Defect', 'Defect', 'Defect', 'Defect', 'Defect', 'Defect', 'Defect', 'Defect', 'Defect', 'Defect', 'Defect', 'Defect', 'Defect', 'Defect', 'Defect', 'Defect', 'Defect', 'Defect', 'Defect', 'Defect', 'Defect', 'Defect', 'Defect', 'Defect', 'Defect', 'Defect', 'Defect', 'Defect', 'Defect', 'Defect', 'Defect', 'Defect', 'Defect', 'Defect', 'Defect', 'Defect', 'Defect', 'Defect', 'Defect', 'Defect', 'Defect', 'Defect', 'Defect', 'Defect', 'Defect', 'Defect', 'Defect', 'Defect', 'Defect', 'Defect', 'Defect', 'Defect', 'Defect', 'Defect', 'Defect', 'Defect', 'Defect', 'Defect', 'Defect', 'Defect', 'Defect', 'Defect', 'Defect', 'Defect', 'Defect', 'Defect', 'Defect', 'Defect', 'Defect', 'Defect', 'Defect', 'Defect', 'Defect', 'Defect', 'Defect', 'Defect', 'Defect', 'Defect', 'Defect', 'Defect', 'Defect', 'Defect', 'Defect', 'Defect', 'Defect', 'Defect', 'Defect', 'Defect', 'Defect', 'Defect', 'Defect', 'Defect', 'Defect', 'Defect', 'Defect', 'Defect', 'Defect', 'Defect', 'Defect', 'Defect', 'Defect', 'Defect', 'Defect', 'Defect', 'Defect', 'Defect', 'Defect', 'Defect', 'Defect', 'Defect', 'Defect', 'Defect', 'Defect', 'Defect', 'Defect', 'Defect', 'Defect', 'Defect', 'Defect', 'Defect', 'Defect', 'Defect', 'Defect', 'Defect', 'Defect', 'Defect', 'Defect', 'Defect', 'Defect', 'Defect', 'Defect', 'Defect', 'Defect', 'Non_defective', 'Non_defective', 'Non_defective', 'Non_defective', 'Non_defective', 'Non_defective', 'Non_defective', 'Non_defective', 'Non_defective', 'Non_defective', 'Non_defective', 'Non_defective', 'Non_defective', 'Non_defective', 'Non_defective', 'Non_defective', 'Non_defective', 'Non_defective', 'Non_defective', 'Non_defective', 'Non_defective', 'Non_defective', 'Non_defective', 'Non_defective', 'Non_defective', 'Non_defective', 'Non_defective', 'Non_defective', 'Non_defective', 'Non_defective', 'Non_defective', 'Non_defective', 'Non_defective', 'Non_defective', 'Non_defective', 'Non_defective', 'Non_defective', 'Non_defective', 'Non_defective', 'Non_defective', 'Non_defective', 'Non_defective', 'Non_defective', 'Non_defective', 'Non_defective', 'Non_defective', 'Non_defective', 'Non_defective', 'Non_defective', 'Non_defective', 'Non_defective', 'Non_defective', 'Non_defective', 'Non_defective', 'Non_defective', 'Non_defective', 'Non_defective', 'Non_defective', 'Non_defective', 'Non_defective', 'Non_defective', 'Non_defective', 'Non_defective', 'Non_defective', 'Non_defective', 'Non_defective', 'Non_defective', 'Non_defective', 'Non_defective', 'Non_defective', 'Non_defective', 'Non_defective', 'Non_defective', 'Non_defective', 'Non_defective', 'Non_defective', 'Non_defective', 'Non_defective', 'Non_defective', 'Non_defective', 'Non_defective', 'Non_defective', 'Non_defective', 'Non_defective', 'Non_defective', 'Non_defective', 'Non_defective', 'Non_defective', 'Non_defective', 'Non_defective', 'Non_defective', 'Non_defective', 'Non_defective', 'Non_defective', 'Non_defective', 'Non_defective', 'Non_defective', 'Non_defective', 'Non_defective', 'Non_defective', 'Non_defective', 'Non_defective', 'Non_defective', 'Non_defective', 'Non_defective', 'Non_defective', 'Non_defective', 'Non_defective', 'Non_defective', 'Non_defective', 'Non_defective', 'Non_defective', 'Non_defective', 'Non_defective', 'Non_defective', 'Non_defective', 'Non_defective', 'Non_defective', 'Non_defective', 'Non_defective', 'Non_defective', 'Non_defective', 'Non_defective', 'Non_defective', 'Non_defective', 'Non_defective', 'Non_defective', 'Non_defective', 'Non_defective', 'Non_defective', 'Non_defective', 'Non_defective', 'Non_defective', 'Non_defective', 'Non_defective', 'Non_defective', 'Non_defective', 'Non_defective', 'Non_defective', 'Non_defective', 'Non_defective', 'Non_defective', 'Non_defective', 'Non_defective', 'Non_defective', 'Non_defective', 'Non_defective', 'Non_defective', 'Non_defective', 'Non_defective', 'Non_defective', 'Non_defective', 'Non_defective', 'Non_defective', 'Non_defective', 'Non_defective', 'Non_defective', 'Non_defective', 'Non_defective', 'Non_defective', 'Non_defective', 'Non_defective', 'Non_defective', 'Non_defective', 'Non_defective', 'Non_defective', 'Non_defective', 'Non_defective', 'Non_defective', 'Non_defective', 'Non_defective', 'Non_defective', 'Non_defective', 'Non_defective', 'Non_defective', 'Non_defective', 'Non_defective', 'Non_defective', 'Non_defective', 'Non_defective', 'Non_defective', 'Non_defective', 'Non_defective', 'Non_defective', 'Non_defective', 'Non_defective', 'Non_defective', 'Non_defective', 'Non_defective', 'Non_defective', 'Non_defective', 'Non_defective', 'Non_defective', 'Non_defective', 'Non_defective', 'Non_defective', 'Non_defective', 'Non_defective', 'Non_defective', 'Non_defective', 'Non_defective', 'Non_defective', 'Non_defective', 'Non_defective', 'Non_defective', 'Non_defective', 'Non_defective', 'Non_defective', 'Non_defective', 'Non_defective', 'Non_defective', 'Non_defective', 'Non_defective', 'Non_defective', 'Non_defective', 'Non_defective', 'Non_defective', 'Non_defective', 'Non_defective', 'Non_defective', 'Non_defective', 'Non_defective', 'Non_defective', 'Non_defective', 'Non_defective', 'Non_defective', 'Non_defective', 'Non_defective', 'Non_defective', 'Non_defective', 'Non_defective', 'Non_defective', 'Non_defective', 'Non_defective', 'Non_defective', 'Non_defective', 'Non_defective', 'Non_defective', 'Non_defective', 'Non_defective', 'Non_defective', 'Non_defective', 'Non_defective', 'Non_defective', 'Non_defective', 'Non_defective', 'Non_defective', 'Non_defective', 'Non_defective', 'Non_defective', 'Non_defective', 'Non_defective', 'Non_defective', 'Non_defective', 'Non_defective', 'Non_defective', 'Non_defective', 'Non_defective', 'Non_defective', 'Non_defective', 'Non_defective', 'Non_defective', 'Non_defective', 'Non_defective', 'Non_defective', 'Non_defective', 'Non_defective', 'Non_defective', 'Non_defective', 'Non_defective', 'Non_defective', 'Non_defective', 'Non_defective', 'Non_defective', 'Non_defective', 'Non_defective', 'Non_defective', 'Non_defective', 'Non_defective', 'Non_defective', 'Non_defective', 'Non_defective', 'Non_defective', 'Non_defective', 'Non_defective', 'Non_defective', 'Non_defective', 'Non_defective', 'Non_defective', 'Non_defective', 'Non_defective', 'Non_defective', 'Non_defective', 'Non_defective', 'Non_defective', 'Non_defective', 'Non_defective', 'Non_defective', 'Non_defective', 'Non_defective', 'Non_defective', 'Non_defective', 'Non_defective', 'Non_defective', 'Non_defective', 'Non_defective', 'Non_defective', 'Non_defective', 'Non_defective', 'Non_defective', 'Non_defective', 'Non_defective', 'Non_defective', 'Non_defective', 'Non_defective', 'Non_defective', 'Non_defective', 'Non_defective', 'Non_defective', 'Non_defective', 'Non_defective', 'Non_defective', 'Non_defective', 'Non_defective', 'Non_defective', 'Non_defective', 'Non_defective', 'Non_defective', 'Non_defective', 'Non_defective', 'Non_defective', 'Non_defective', 'Non_defective', 'Non_defective', 'Non_defective', 'Non_defective', 'Non_defective', 'Non_defective', 'Non_defective', 'Non_defective', 'Non_defective', 'Non_defective', 'Non_defective', 'Non_defective', 'Non_defective', 'Non_defective', 'Non_defective', 'Non_defective', 'Non_defective', 'Non_defective', 'Non_defective', 'Non_defective', 'Non_defective', 'Non_defective', 'Non_defective', 'Non_defective', 'Non_defective', 'Non_defective', 'Non_defective', 'Non_defective', 'Non_defective', 'Non_defective', 'Non_defective', 'Non_defective', 'Non_defective', 'Non_defective', 'Non_defective', 'Non_defective', 'Non_defective', 'Non_defective', 'Non_defective', 'Non_defective', 'Non_defective', 'Non_defective', 'Non_defective', 'Non_defective', 'Non_defective', 'Non_defective', 'Non_defective', 'Non_defective', 'Non_defective', 'Non_defective', 'Non_defective', 'Non_defective', 'Non_defective', 'Non_defective', 'Non_defective', 'Non_defective', 'Non_defective', 'Non_defective', 'Non_defective', 'Non_defective', 'Non_defective', 'Non_defective', 'Non_defective', 'Non_defective', 'Non_defective', 'Non_defective', 'Non_defective', 'Non_defective', 'Non_defective', 'Non_defective', 'Non_defective', 'Non_defective', 'Non_defective', 'Non_defective', 'Non_defective', 'Non_defective', 'Non_defective', 'Non_defective', 'Non_defective', 'Non_defective', 'Non_defective', 'Non_defective', 'Non_defective', 'Non_defective', 'Non_defective', 'Non_defective', 'Non_defective', 'Non_defective', 'Non_defective', 'Non_defective', 'Non_defective', 'Non_defective', 'Non_defective', 'Non_defective', 'Non_defective', 'Non_defective', 'Non_defective', 'Non_defective', 'Non_defective', 'Non_defective', 'Non_defective', 'Non_defective', 'Non_defective', 'Non_defective', 'Non_defective', 'Non_defective', 'Non_defective', 'Non_defective', 'Non_defective', 'Non_defective', 'Non_defective', 'Non_defective', 'Non_defective', 'Non_defective', 'Non_defective', 'Non_defective', 'Non_defective', 'Non_defective', 'Non_defective', 'Non_defective', 'Non_defective', 'Non_defective', 'Non_defective', 'Non_defective', 'Non_defective', 'Non_defective', 'Non_defective', 'Non_defective', 'Non_defective', 'Non_defective', 'Non_defective', 'Non_defective', 'Non_defective', 'Non_defective', 'Non_defective', 'Non_defective', 'Non_defective', 'Non_defective', 'Non_defective', 'Non_defective', 'Non_defective', 'Non_defective', 'Non_defective', 'Non_defective', 'Non_defective', 'Non_defective', 'Non_defective', 'Non_defective', 'Non_defective', 'Non_defective', 'Non_defective', 'Non_defective', 'Non_defective', 'Non_defective', 'Non_defective', 'Non_defective', 'Non_defective', 'Non_defective', 'Non_defective', 'Non_defective', 'Non_defective', 'Non_defective', 'Non_defective', 'Non_defective', 'Non_defective', 'Non_defective', 'Non_defective', 'Non_defective', 'Non_defective', 'Non_defective', 'Non_defective', 'Non_defective', 'Non_defective', 'Non_defective', 'Non_defective', 'Non_defective', 'Non_defective', 'Non_defective', 'Non_defective', 'Non_defective', 'Non_defective', 'Non_defective', 'Non_defective', 'Non_defective', 'Non_defective', 'Non_defective', 'Non_defective', 'Non_defective', 'Non_defective', 'Non_defective', 'Non_defective', 'Non_defective', 'Non_defective', 'Non_defective', 'Non_defective', 'Non_defective', 'Non_defective', 'Non_defective', 'Non_defective', 'Non_defective', 'Non_defective', 'Non_defective', 'Non_defective', 'Non_defective', 'Non_defective', 'Non_defective', 'Non_defective', 'Non_defective', 'Non_defective', 'Non_defective', 'Non_defective', 'Non_defective', 'Non_defective', 'Non_defective', 'Non_defective', 'Non_defective', 'Non_defective', 'Non_defective', 'Non_defective', 'Non_defective', 'Non_defective', 'Non_defective', 'Non_defective', 'Non_defective', 'Non_defective', 'Non_defective', 'Non_defective', 'Non_defective', 'Non_defective', 'Non_defective', 'Non_defective', 'Non_defective', 'Non_defective', 'Non_defective', 'Non_defective', 'Non_defective', 'Non_defective', 'Non_defective', 'Non_defective', 'Non_defective', 'Non_defective', 'Non_defective', 'Non_defective', 'Non_defective', 'Non_defective', 'Non_defective', 'Non_defective', 'Non_defective', 'Non_defective', 'Non_defective', 'Non_defective', 'Non_defective', 'Non_defective', 'Non_defective', 'Non_defective', 'Non_defective', 'Non_defective', 'Non_defective']\n",
      "Number of images: 3540\n",
      "Number of unique labels: 2\n"
     ]
    }
   ],
   "source": [
    "import os\n",
    "import cv2\n",
    "import numpy as np\n",
    "\n",
    "def convert_images_to_npy(input_folder, output_folder):\n",
    "    image_data = []\n",
    "    labels = []\n",
    "    excluded_folders = ['.ipynb_checkpoints', 'labels.txt'] \n",
    "    for label, class_folder in enumerate(sorted(os.listdir(input_folder))):\n",
    "        if class_folder not in excluded_folders:\n",
    "            class_path = os.path.join(input_folder, class_folder)\n",
    "            print(class_folder, \"Label:\", label)\n",
    "            if os.path.isdir(class_path):\n",
    "                for image_file in os.listdir(class_path):\n",
    "                    image_path = os.path.join(class_path, image_file)\n",
    "                    if os.path.isfile(image_path) and image_file.lower().endswith(('.png', '.jpg', '.jpeg')):\n",
    "                        # Read and preprocess the image\n",
    "                        image = cv2.imread(image_path)\n",
    "                        image = cv2.cvtColor(image, cv2.COLOR_BGR2RGB)  # Convert to RGB\n",
    "                        image = cv2.resize(image, (227, 227))  # Resize as needed\n",
    "                        image_data.append(image)\n",
    "                        labels.append(class_folder)\n",
    "    print(labels)\n",
    "    # Convert the lists to NumPy arrays\n",
    "    image_data = np.array(image_data)\n",
    "    labels = np.array(labels)\n",
    "    # Count the number of images and labels\n",
    "    num_images = len(image_data)\n",
    "    num_labels = len(set(labels))  # Count unique labels\n",
    "\n",
    "    print(f\"Number of images: {num_images}\")\n",
    "    print(f\"Number of unique labels: {num_labels}\")\n",
    "\n",
    "    \n",
    "    # Specify the paths for the output .npy files\n",
    "    output_image_npy = os.path.join(output_folder, \"output_image.npy\")\n",
    "    output_labels_npy = os.path.join(output_folder, \"output_labels.npy\")\n",
    "\n",
    "    # Save each array to a separate .npy file\n",
    "    np.save(output_image_npy, image_data)\n",
    "    np.save(output_labels_npy, labels)\n",
    "# Example usage:\n",
    "input_folder_path = \"Two_class/\"\n",
    "output_npy_path = \"Two_class/\"\n",
    "\n",
    "convert_images_to_npy(input_folder_path, output_npy_path)\n"
   ]
  },
  {
   "cell_type": "code",
   "execution_count": null,
   "id": "ca098106-1920-4f47-b5c7-a707d92dc776",
   "metadata": {},
   "outputs": [],
   "source": []
  }
 ],
 "metadata": {
  "kernelspec": {
   "display_name": "conda_pytorch_p310",
   "language": "python",
   "name": "conda_pytorch_p310"
  },
  "language_info": {
   "codemirror_mode": {
    "name": "ipython",
    "version": 3
   },
   "file_extension": ".py",
   "mimetype": "text/x-python",
   "name": "python",
   "nbconvert_exporter": "python",
   "pygments_lexer": "ipython3",
   "version": "3.10.13"
  }
 },
 "nbformat": 4,
 "nbformat_minor": 5
}
